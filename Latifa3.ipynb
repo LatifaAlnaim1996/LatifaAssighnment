{
  "nbformat": 4,
  "nbformat_minor": 0,
  "metadata": {
    "colab": {
      "name": "Untitled2.ipynb",
      "provenance": [],
      "authorship_tag": "ABX9TyMJz+C6yoexYODcN4M/pLn1",
      "include_colab_link": true
    },
    "kernelspec": {
      "name": "python3",
      "display_name": "Python 3"
    }
  },
  "cells": [
    {
      "cell_type": "markdown",
      "metadata": {
        "id": "view-in-github",
        "colab_type": "text"
      },
      "source": [
        "<a href=\"https://colab.research.google.com/github/LatifaAlnaim1996/LatifaAssighnment/blob/main/Latifa3.ipynb\" target=\"_parent\"><img src=\"https://colab.research.google.com/assets/colab-badge.svg\" alt=\"Open In Colab\"/></a>"
      ]
    },
    {
      "cell_type": "code",
      "metadata": {
        "colab": {
          "base_uri": "https://localhost:8080/"
        },
        "id": "GBe3OHfM0yZl",
        "outputId": "53d63789-daab-45da-f94a-a35f2ae1d797"
      },
      "source": [
        "X = \"Hello Mr. World !!\"\r\n",
        "\r\n",
        "print(\"Hello Mr. World !!\")\r\n",
        "print(X)"
      ],
      "execution_count": 4,
      "outputs": [
        {
          "output_type": "stream",
          "text": [
            "Hello Mr. World !!\n",
            "Hello Mr. World !!\n"
          ],
          "name": "stdout"
        }
      ]
    },
    {
      "cell_type": "code",
      "metadata": {
        "colab": {
          "base_uri": "https://localhost:8080/"
        },
        "id": "Kg4qN9A601Qy",
        "outputId": "cf71cc18-c35c-4dd3-8ca5-f81e39f3c1b4"
      },
      "source": [
        "\r\n",
        "\r\n",
        "name = \" Latifa ALnaim\"\r\n",
        "print(\"Hello !! \"+ name)\r\n"
      ],
      "execution_count": 5,
      "outputs": [
        {
          "output_type": "stream",
          "text": [
            "Hello !!  Latifa ALnaim\n"
          ],
          "name": "stdout"
        }
      ]
    },
    {
      "cell_type": "code",
      "metadata": {
        "colab": {
          "base_uri": "https://localhost:8080/"
        },
        "id": "DXzicjly1ESD",
        "outputId": "d93aefdd-8c79-462a-f7bb-a5d0c1c6c02c"
      },
      "source": [
        "travil1 = \"Europ\"\r\n",
        "travil2 = \"Istanbul\"\r\n",
        "print(\"I like to travil to {} and {}.\" .format(travil1, travil2))"
      ],
      "execution_count": 6,
      "outputs": [
        {
          "output_type": "stream",
          "text": [
            "I like to travil to Europ and Istanbul.\n"
          ],
          "name": "stdout"
        }
      ]
    },
    {
      "cell_type": "code",
      "metadata": {
        "colab": {
          "base_uri": "https://localhost:8080/"
        },
        "id": "4tIAILNU1Egk",
        "outputId": "fa7e8875-3f02-4c62-f712-4e8bb42ab168"
      },
      "source": [
        "num = 3\r\n",
        "print (\"Hello !!\",num)"
      ],
      "execution_count": 7,
      "outputs": [
        {
          "output_type": "stream",
          "text": [
            "Hello !! 3\n"
          ],
          "name": "stdout"
        }
      ]
    },
    {
      "cell_type": "code",
      "metadata": {
        "colab": {
          "base_uri": "https://localhost:8080/"
        },
        "id": "v_CdkHzY1vN4",
        "outputId": "6347f0ed-3e8c-4817-bf4d-61f9b7fb6f50"
      },
      "source": [
        "woow = \"woow That's Awsum!! \"\r\n",
        "print(woow.title())\r\n",
        "print(f\"I like to travil to {travil1} and {travil2}..\". title())"
      ],
      "execution_count": 8,
      "outputs": [
        {
          "output_type": "stream",
          "text": [
            "Woow That'S Awsum!! \n",
            "I Like To Travil To Europ And Istanbul..\n"
          ],
          "name": "stdout"
        }
      ]
    },
    {
      "cell_type": "code",
      "metadata": {
        "id": "FhwJLWea2HJk"
      },
      "source": [
        ""
      ],
      "execution_count": 8,
      "outputs": []
    }
  ]
}