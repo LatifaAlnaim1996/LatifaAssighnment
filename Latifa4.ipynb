{
  "nbformat": 4,
  "nbformat_minor": 0,
  "metadata": {
    "colab": {
      "name": "Untitled3.ipynb",
      "provenance": [],
      "authorship_tag": "ABX9TyPBByAoFLrluvPY2ckrk3us",
      "include_colab_link": true
    },
    "kernelspec": {
      "name": "python3",
      "display_name": "Python 3"
    }
  },
  "cells": [
    {
      "cell_type": "markdown",
      "metadata": {
        "id": "view-in-github",
        "colab_type": "text"
      },
      "source": [
        "<a href=\"https://colab.research.google.com/github/LatifaAlnaim1996/LatifaAssighnment/blob/main/Latifa4.ipynb\" target=\"_parent\"><img src=\"https://colab.research.google.com/assets/colab-badge.svg\" alt=\"Open In Colab\"/></a>"
      ]
    },
    {
      "cell_type": "code",
      "metadata": {
        "colab": {
          "base_uri": "https://localhost:8080/"
        },
        "id": "Up7-DtDZ2zC3",
        "outputId": "b585f663-942f-4910-802a-eca18de32dd4"
      },
      "source": [
        "def minimum (list):\r\n",
        "  \r\n",
        "  if len(list) == 0:\r\n",
        "    return False\r\n",
        "  else:\r\n",
        "    min = list[0]\r\n",
        "    for i in range(len(list)):\r\n",
        "      if min > list[i]:\r\n",
        "        min = list[i]\r\n",
        "        \r\n",
        "    return min\r\n",
        "   \r\n",
        "minimum([40,5,-10,7])"
      ],
      "execution_count": 1,
      "outputs": [
        {
          "output_type": "execute_result",
          "data": {
            "text/plain": [
              "-10"
            ]
          },
          "metadata": {
            "tags": []
          },
          "execution_count": 1
        }
      ]
    },
    {
      "cell_type": "code",
      "metadata": {
        "colab": {
          "base_uri": "https://localhost:8080/"
        },
        "id": "S5Lq2HdP3Jd8",
        "outputId": "22e22d71-581a-4328-82b6-679a3285cdf1"
      },
      "source": [
        "def maximum (list):\r\n",
        "  \r\n",
        "  if len(list) == 0:\r\n",
        "    return False\r\n",
        "  else:\r\n",
        "    max = list[0]\r\n",
        "    for i in range(len(list)):\r\n",
        "      if max < list[i]:\r\n",
        "        max = list[i]\r\n",
        "        \r\n",
        "    return max\r\n",
        "   \r\n",
        "maximum([40,5,-10,7])"
      ],
      "execution_count": 3,
      "outputs": [
        {
          "output_type": "execute_result",
          "data": {
            "text/plain": [
              "40"
            ]
          },
          "metadata": {
            "tags": []
          },
          "execution_count": 3
        }
      ]
    },
    {
      "cell_type": "code",
      "metadata": {
        "colab": {
          "base_uri": "https://localhost:8080/"
        },
        "id": "xrsYut3w3S7g",
        "outputId": "69e5d8ae-0e67-4c6b-bee6-5b9c45bd350f"
      },
      "source": [
        "def average (list):\r\n",
        "  sum = 0\r\n",
        "  num_val = len(list)\r\n",
        "  avg = 0\r\n",
        "  for i in range(len(list)):\r\n",
        "    sum = sum + list[i]\r\n",
        "  avg = sum / num_val \r\n",
        "  return avg\r\n",
        "average([5,10,20,15])\r\n"
      ],
      "execution_count": 6,
      "outputs": [
        {
          "output_type": "execute_result",
          "data": {
            "text/plain": [
              "12.5"
            ]
          },
          "metadata": {
            "tags": []
          },
          "execution_count": 6
        }
      ]
    },
    {
      "cell_type": "code",
      "metadata": {
        "colab": {
          "base_uri": "https://localhost:8080/"
        },
        "id": "Pfvp3BkT3m7E",
        "outputId": "0e86af29-bca7-4621-d398-4621fb4d27e5"
      },
      "source": [
        "def sum_total (list):\r\n",
        "  sum = 0\r\n",
        "  for i in range(len(list)):\r\n",
        "    sum = sum + list[i]\r\n",
        "  return sum\r\n",
        "sum_total([3,1,6])"
      ],
      "execution_count": 7,
      "outputs": [
        {
          "output_type": "execute_result",
          "data": {
            "text/plain": [
              "10"
            ]
          },
          "metadata": {
            "tags": []
          },
          "execution_count": 7
        }
      ]
    },
    {
      "cell_type": "code",
      "metadata": {
        "colab": {
          "base_uri": "https://localhost:8080/"
        },
        "id": "8E1zavwC3usK",
        "outputId": "58a558ce-564e-4a25-edf6-37e54b0011fd"
      },
      "source": [
        "def largest_size (list):\r\n",
        "  for i in range(len(list)):\r\n",
        "    if list[i] >  0:\r\n",
        "      list[i] = 'big'\r\n",
        "  return list \r\n",
        "largest_size([5, 7, -2, 10]) "
      ],
      "execution_count": 8,
      "outputs": [
        {
          "output_type": "execute_result",
          "data": {
            "text/plain": [
              "['big', 'big', -2, 'big']"
            ]
          },
          "metadata": {
            "tags": []
          },
          "execution_count": 8
        }
      ]
    }
  ]
}