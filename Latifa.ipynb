{
  "nbformat": 4,
  "nbformat_minor": 0,
  "metadata": {
    "colab": {
      "name": "Latifa.ipynb",
      "provenance": [],
      "collapsed_sections": [],
      "authorship_tag": "ABX9TyNT9kATM+A/62LvMRoLIubX",
      "include_colab_link": true
    },
    "kernelspec": {
      "name": "python3",
      "display_name": "Python 3"
    }
  },
  "cells": [
    {
      "cell_type": "markdown",
      "metadata": {
        "id": "view-in-github",
        "colab_type": "text"
      },
      "source": [
        "<a href=\"https://colab.research.google.com/github/LatifaAlnaim1996/LatifaAssighnment/blob/main/Latifa.ipynb\" target=\"_parent\"><img src=\"https://colab.research.google.com/assets/colab-badge.svg\" alt=\"Open In Colab\"/></a>"
      ]
    },
    {
      "cell_type": "markdown",
      "metadata": {
        "id": "5b9PioIDseri"
      },
      "source": [
        "```\r\n",
        "#1\r\n",
        "def a():\r\n",
        "    return 5\r\n",
        "print(a()) \r\n",
        "```\r\n",
        "outpot \\\r\n",
        "5"
      ]
    },
    {
      "cell_type": "code",
      "metadata": {
        "colab": {
          "base_uri": "https://localhost:8080/"
        },
        "id": "TE3wh27esyAM",
        "outputId": "1fcd124c-998f-4de7-caa8-141a51b0a7f8"
      },
      "source": [
        "#1\r\n",
        "def a():\r\n",
        "    return 5\r\n",
        "print(a())\r\n"
      ],
      "execution_count": 6,
      "outputs": [
        {
          "output_type": "stream",
          "text": [
            "5\n"
          ],
          "name": "stdout"
        }
      ]
    },
    {
      "cell_type": "markdown",
      "metadata": {
        "id": "swX4FCj4tANG"
      },
      "source": [
        "```\r\n",
        "#2\r\n",
        "def a(b,c):\r\n",
        "    return str(b)+str(c)\r\n",
        "print(a(2,5))\r\n",
        "```\r\n",
        "outpot \\\r\n",
        "25\r\n"
      ]
    },
    {
      "cell_type": "code",
      "metadata": {
        "colab": {
          "base_uri": "https://localhost:8080/"
        },
        "id": "Nt9aLEu1tCVZ",
        "outputId": "b29cec5d-a866-492b-f81a-fc674206be15"
      },
      "source": [
        "#2\r\n",
        "def a(b,c):\r\n",
        "    return str(b)+str(c)\r\n",
        "print(a(2,5))"
      ],
      "execution_count": 7,
      "outputs": [
        {
          "output_type": "stream",
          "text": [
            "25\n"
          ],
          "name": "stdout"
        }
      ]
    },
    {
      "cell_type": "markdown",
      "metadata": {
        "id": "wq5N9Yp8tOFQ"
      },
      "source": [
        "```\r\n",
        "#3\r\n",
        "def a():\r\n",
        "    b = 100\r\n",
        "    print(b)\r\n",
        "    if b < 10:\r\n",
        "        return 5\r\n",
        "    else:\r\n",
        "        return 10\r\n",
        "    return 7\r\n",
        "print(a())\r\n",
        "\r\n",
        "```\r\n",
        "outpot \\\r\n",
        "100 \\\r\n",
        "10\r\n"
      ]
    },
    {
      "cell_type": "code",
      "metadata": {
        "colab": {
          "base_uri": "https://localhost:8080/"
        },
        "id": "iq_oIF4RtYip",
        "outputId": "2c75e05a-fa56-4f51-d2da-2c9fae5f9fa1"
      },
      "source": [
        "#3\r\n",
        "def a():\r\n",
        "  b =100\r\n",
        "  print (b)\r\n",
        "  if b < 10:\r\n",
        "    return 5\r\n",
        "  else:\r\n",
        "     return 10\r\n",
        "  return 7\r\n",
        "print(a())\r\n",
        "\r\n"
      ],
      "execution_count": 8,
      "outputs": [
        {
          "output_type": "stream",
          "text": [
            "100\n",
            "10\n"
          ],
          "name": "stdout"
        }
      ]
    },
    {
      "cell_type": "markdown",
      "metadata": {
        "id": "ZIc0qcpRteQ1"
      },
      "source": [
        "```\r\n",
        "#4\r\n",
        "def a():\r\n",
        "    print(5)\r\n",
        "x = a()\r\n",
        "print(x)\r\n",
        "```\r\n",
        "outpot \\\r\n",
        "5 \\\r\n",
        "error\r\n"
      ]
    },
    {
      "cell_type": "code",
      "metadata": {
        "colab": {
          "base_uri": "https://localhost:8080/"
        },
        "id": "iH8MHJv6tjEW",
        "outputId": "173563de-19b7-418a-e502-a5008f6d8cf7"
      },
      "source": [
        "#4\r\n",
        "def a():\r\n",
        "    print(5)\r\n",
        "x = a()\r\n",
        "print(x)\r\n"
      ],
      "execution_count": 9,
      "outputs": [
        {
          "output_type": "stream",
          "text": [
            "5\n",
            "None\n"
          ],
          "name": "stdout"
        }
      ]
    },
    {
      "cell_type": "markdown",
      "metadata": {
        "id": "RVlOxvrnt3f-"
      },
      "source": [
        "``` \r\n",
        "#5\r\n",
        "def a():\r\n",
        "    return 5\r\n",
        "print(a()+a())\r\n",
        "```\r\n",
        "outpot \\\r\n",
        "10"
      ]
    },
    {
      "cell_type": "code",
      "metadata": {
        "colab": {
          "base_uri": "https://localhost:8080/"
        },
        "id": "Yi40IsgGt8pm",
        "outputId": "6d25af4e-fcd5-4d55-ca8f-5a788e8deabd"
      },
      "source": [
        "#5\r\n",
        "def a():\r\n",
        "    return 5\r\n",
        "print(a()+a())"
      ],
      "execution_count": 10,
      "outputs": [
        {
          "output_type": "stream",
          "text": [
            "10\n"
          ],
          "name": "stdout"
        }
      ]
    },
    {
      "cell_type": "markdown",
      "metadata": {
        "id": "4OpY1nTTt_mR"
      },
      "source": [
        "```\r\n",
        "#6\r\n",
        "def a():\r\n",
        "    return 5\r\n",
        "    return 10\r\n",
        "print(a())\r\n",
        "```\r\n",
        "outpot \\\r\n",
        "5"
      ]
    },
    {
      "cell_type": "code",
      "metadata": {
        "colab": {
          "base_uri": "https://localhost:8080/"
        },
        "id": "csbVjjG_uHCO",
        "outputId": "a811cf5e-10f9-40a9-ea2c-dc37bf65fd60"
      },
      "source": [
        "#6\r\n",
        "def a():\r\n",
        "    return 5\r\n",
        "    return 10\r\n",
        "print(a())"
      ],
      "execution_count": 11,
      "outputs": [
        {
          "output_type": "stream",
          "text": [
            "5\n"
          ],
          "name": "stdout"
        }
      ]
    },
    {
      "cell_type": "markdown",
      "metadata": {
        "id": "UF7j5h7mudto"
      },
      "source": [
        "```\r\n",
        "#7\r\n",
        "def a(b,c):\r\n",
        "    if b<c:\r\n",
        "        return 7\r\n",
        "    else:\r\n",
        "        return 14\r\n",
        "    return 3\r\n",
        "print(a(2,3))\r\n",
        "print(a(5,3))\r\n",
        "print(a(2,3) + a(5,3))\r\n",
        "```\r\n",
        "outpot \\\r\n",
        "7 \\\r\n",
        "14 \\\r\n",
        "21\r\n"
      ]
    },
    {
      "cell_type": "code",
      "metadata": {
        "colab": {
          "base_uri": "https://localhost:8080/"
        },
        "id": "72FdbFbOui6T",
        "outputId": "058e105c-ee55-46d7-c500-4e3085e111c3"
      },
      "source": [
        "#7\r\n",
        "def a(b,c):\r\n",
        "    if b<c:\r\n",
        "        return 7\r\n",
        "    else:\r\n",
        "        return 14\r\n",
        "    return 3\r\n",
        "print(a(2,3))\r\n",
        "print(a(5,3))\r\n",
        "print(a(2,3) + a(5,3))\r\n"
      ],
      "execution_count": 12,
      "outputs": [
        {
          "output_type": "stream",
          "text": [
            "7\n",
            "14\n",
            "21\n"
          ],
          "name": "stdout"
        }
      ]
    },
    {
      "cell_type": "markdown",
      "metadata": {
        "id": "4wUpuTnaumXO"
      },
      "source": [
        "```\r\n",
        "#8\r\n",
        "b = 500\r\n",
        "print(b)\r\n",
        "def a():\r\n",
        "    b = 300\r\n",
        "    print(b)\r\n",
        "print(b)\r\n",
        "a()\r\n",
        "print(b)\r\n",
        "```\r\n",
        "outpot \\\r\n",
        "500 \\\r\n",
        "500 \\\r\n",
        "300 \\\r\n",
        "500 \r\n",
        "\r\n"
      ]
    },
    {
      "cell_type": "code",
      "metadata": {
        "colab": {
          "base_uri": "https://localhost:8080/"
        },
        "id": "SBvrTdSBurrE",
        "outputId": "ced1db0a-f875-4d31-8918-6de280a0c4ba"
      },
      "source": [
        "#8\r\n",
        "b = 500\r\n",
        "print(b)\r\n",
        "def a():\r\n",
        "    b = 300\r\n",
        "    print(b)\r\n",
        "print(b)\r\n",
        "a()\r\n",
        "print(b)"
      ],
      "execution_count": 13,
      "outputs": [
        {
          "output_type": "stream",
          "text": [
            "500\n",
            "500\n",
            "300\n",
            "500\n"
          ],
          "name": "stdout"
        }
      ]
    },
    {
      "cell_type": "markdown",
      "metadata": {
        "id": "_eAUaWUouuoN"
      },
      "source": [
        "```\r\n",
        "#9\r\n",
        "def a(b,c):\r\n",
        "    return b+c\r\n",
        "    return 10\r\n",
        "print(a(3,5))\r\n",
        "```\r\n",
        "outpot \\\r\n",
        "8"
      ]
    },
    {
      "cell_type": "code",
      "metadata": {
        "colab": {
          "base_uri": "https://localhost:8080/"
        },
        "id": "yg6ldV5bu2dy",
        "outputId": "b1f8f4f7-6c1a-4cd4-f3c1-c0db1bbe2509"
      },
      "source": [
        "#9\r\n",
        "def a(b,c):\r\n",
        "    return b+c\r\n",
        "    return 10\r\n",
        "print(a(3,5))"
      ],
      "execution_count": 14,
      "outputs": [
        {
          "output_type": "stream",
          "text": [
            "8\n"
          ],
          "name": "stdout"
        }
      ]
    },
    {
      "cell_type": "markdown",
      "metadata": {
        "id": "mtN1E43avB9b"
      },
      "source": [
        "```\r\n",
        "#10\r\n",
        "b = 500\r\n",
        "print(b)\r\n",
        "def a():\r\n",
        "    b = 300\r\n",
        "    print(b)\r\n",
        "    return b\r\n",
        "print(b)\r\n",
        "a()\r\n",
        "print(b)\r\n",
        "```\r\n",
        "outpot \\\r\n",
        "500 \\\r\n",
        "500 \\\r\n",
        "300 \\\r\n",
        "300"
      ]
    },
    {
      "cell_type": "code",
      "metadata": {
        "colab": {
          "base_uri": "https://localhost:8080/"
        },
        "id": "4kVzIO2GvJmz",
        "outputId": "00100864-44dc-455e-a58d-901ccbd2f633"
      },
      "source": [
        "#10\r\n",
        "b = 500\r\n",
        "print(b)\r\n",
        "def a():\r\n",
        "    b = 300\r\n",
        "    print(b)\r\n",
        "    return b\r\n",
        "print(b)\r\n",
        "a()\r\n",
        "print(b)\r\n"
      ],
      "execution_count": 15,
      "outputs": [
        {
          "output_type": "stream",
          "text": [
            "500\n",
            "500\n",
            "300\n",
            "500\n"
          ],
          "name": "stdout"
        }
      ]
    },
    {
      "cell_type": "markdown",
      "metadata": {
        "id": "J7X7x8S4vNA2"
      },
      "source": [
        "```\r\n",
        "#11\r\n",
        "def a():\r\n",
        "    print(1)\r\n",
        "    x = b()\r\n",
        "    print(x)\r\n",
        "    return 10\r\n",
        "def b():\r\n",
        "    print(3)\r\n",
        "    return 5\r\n",
        "y = a()\r\n",
        "print(y)\r\n",
        "```\r\n",
        "outpot \\\r\n",
        "1 \\\r\n",
        "3 \\\r\n",
        "5  \\\r\n",
        "10 "
      ]
    },
    {
      "cell_type": "code",
      "metadata": {
        "colab": {
          "base_uri": "https://localhost:8080/"
        },
        "id": "rIShffdHvYk9",
        "outputId": "f3c9e014-fa45-4e81-ac3b-3f214809e4b3"
      },
      "source": [
        "#11\r\n",
        "def a():\r\n",
        "    print(1)\r\n",
        "    x = b()\r\n",
        "    print(x)\r\n",
        "    return 10\r\n",
        "def b():\r\n",
        "    print(3)\r\n",
        "    return 5\r\n",
        "y = a()\r\n",
        "print(y)"
      ],
      "execution_count": 16,
      "outputs": [
        {
          "output_type": "stream",
          "text": [
            "1\n",
            "3\n",
            "5\n",
            "10\n"
          ],
          "name": "stdout"
        }
      ]
    },
    {
      "cell_type": "markdown",
      "metadata": {
        "id": "i-cVvImmvb0d"
      },
      "source": [
        "```\r\n",
        "#12\r\n",
        "b = 500\r\n",
        "print(b)\r\n",
        "def a():\r\n",
        "    b = 300\r\n",
        "    print(b)\r\n",
        "    return b\r\n",
        "print(b)\r\n",
        "b=a()\r\n",
        "print(b)\r\n",
        "```\r\n",
        "outpot \\\r\n",
        "500 \\\r\n",
        "500 \\\r\n",
        "300 \\\r\n",
        "300\r\n"
      ]
    },
    {
      "cell_type": "code",
      "metadata": {
        "colab": {
          "base_uri": "https://localhost:8080/"
        },
        "id": "yJ1JdRJjvh3S",
        "outputId": "f218dabb-5c38-41a2-d2a0-6114ce6b4666"
      },
      "source": [
        "#12\r\n",
        "b = 500\r\n",
        "print(b)\r\n",
        "def a():\r\n",
        "    b = 300\r\n",
        "    print(b)\r\n",
        "    return b\r\n",
        "print(b)\r\n",
        "b=a()\r\n",
        "print(b)"
      ],
      "execution_count": 17,
      "outputs": [
        {
          "output_type": "stream",
          "text": [
            "500\n",
            "500\n",
            "300\n",
            "300\n"
          ],
          "name": "stdout"
        }
      ]
    }
  ]
}